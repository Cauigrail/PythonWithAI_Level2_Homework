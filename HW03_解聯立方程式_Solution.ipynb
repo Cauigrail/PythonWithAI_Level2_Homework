{
 "cells": [
  {
   "cell_type": "markdown",
   "metadata": {},
   "source": [
    "# HW1 解聯立方程式\n",
    "http://www.math-exercises.com/equations-and-inequalities/linear-equations-and-inequalities"
   ]
  },
  {
   "cell_type": "code",
   "execution_count": 1,
   "metadata": {},
   "outputs": [
    {
     "data": {
      "text/plain": [
       "[{x: 18/5}]"
      ]
     },
     "execution_count": 1,
     "metadata": {},
     "output_type": "execute_result"
    }
   ],
   "source": [
    "# 2i\n",
    "from sympy.solvers import solve\n",
    "from sympy import Symbol\n",
    "\n",
    "x = Symbol('x')\n",
    "solve([(x+2)*(x-3)-(x-5)*(x-6)], dict=True)"
   ]
  },
  {
   "cell_type": "code",
   "execution_count": 2,
   "metadata": {},
   "outputs": [
    {
     "data": {
      "text/plain": [
       "[18/5]"
      ]
     },
     "execution_count": 2,
     "metadata": {},
     "output_type": "execute_result"
    }
   ],
   "source": [
    "# 2i\n",
    "from sympy.solvers import solve\n",
    "from sympy.core import sympify\n",
    "\n",
    "exp1 = '(x+2)*(x-3), (x-5)*(x-6)'\n",
    "solve(sympify(f\"Eq({exp1})\"))"
   ]
  },
  {
   "cell_type": "code",
   "execution_count": 5,
   "metadata": {
    "scrolled": true
   },
   "outputs": [
    {
     "data": {
      "text/plain": [
       "[{x: 2}, {x: 8}]"
      ]
     },
     "execution_count": 5,
     "metadata": {},
     "output_type": "execute_result"
    }
   ],
   "source": [
    "# 3c\n",
    "# 需加 real=True\n",
    "x = Symbol('x', real=True)\n",
    "solve(abs(10-2*x)-6, x,dict=True)"
   ]
  },
  {
   "cell_type": "code",
   "execution_count": 6,
   "metadata": {},
   "outputs": [],
   "source": [
    "# http://www.math-exercises.com/equations-and-inequalities/systems-of-linear-equations-and-inequalities"
   ]
  },
  {
   "cell_type": "code",
   "execution_count": 8,
   "metadata": {},
   "outputs": [],
   "source": [
    "from sympy import symbols\n",
    "x,y,z = symbols('x,y,z')"
   ]
  },
  {
   "cell_type": "code",
   "execution_count": 9,
   "metadata": {},
   "outputs": [
    {
     "data": {
      "text/latex": [
       "$\\displaystyle 5 x + 3 y + z + 2$"
      ],
      "text/plain": [
       "5*x + 3*y + z + 2"
      ]
     },
     "execution_count": 9,
     "metadata": {},
     "output_type": "execute_result"
    }
   ],
   "source": [
    "5*x + 3*y + 1*z +2"
   ]
  },
  {
   "cell_type": "markdown",
   "metadata": {},
   "source": [
    "$\\displaystyle 4 x + 3 y = 4$\n",
    "\n",
    "$\\displaystyle 2 x + 2 y - 2 z = 0$\n",
    "\n",
    "$\\displaystyle 5 x + 3 y + z = -2$"
   ]
  },
  {
   "cell_type": "markdown",
   "metadata": {},
   "source": [
    "# Lab 2\n",
    "http://www.math-exercises.com/equations-and-inequalities/systems-of-linear-equations-and-inequalities"
   ]
  },
  {
   "cell_type": "code",
   "execution_count": 10,
   "metadata": {},
   "outputs": [
    {
     "data": {
      "text/plain": [
       "[{x: -11, y: 16, z: 5}]"
      ]
     },
     "execution_count": 10,
     "metadata": {},
     "output_type": "execute_result"
    }
   ],
   "source": [
    "#3c\n",
    "from sympy import symbols\n",
    "x, y, z = symbols('x y z')\n",
    "solve([4*x + 3*y -4, 2*x + 2*y - 2*z, 5*x + 3*y + 1*z +2], dict=True)\n"
   ]
  },
  {
   "cell_type": "code",
   "execution_count": 1,
   "metadata": {},
   "outputs": [
    {
     "data": {
      "text/plain": [
       "array([-11.,  16.,   5.])"
      ]
     },
     "execution_count": 1,
     "metadata": {},
     "output_type": "execute_result"
    }
   ],
   "source": [
    "# 3c\n",
    "import numpy as np\n",
    "def solve_equation(a, b):\n",
    "    a_shape = int(len(a) ** .5)\n",
    "    # TBD：檢查 a_shape 是否為整數?\n",
    "    a=np.array(a).reshape(a_shape, a_shape)\n",
    "    b=np.array(b)\n",
    "    return np.linalg.solve(a,b)\n",
    "\n",
    "solve_equation([4, 3, 0, 2, 2, -2, 5, 3, 1], [4, 0, -2])"
   ]
  },
  {
   "cell_type": "code",
   "execution_count": 4,
   "metadata": {},
   "outputs": [
    {
     "data": {
      "text/plain": [
       "array([3., 2.])"
      ]
     },
     "execution_count": 4,
     "metadata": {},
     "output_type": "execute_result"
    }
   ],
   "source": [
    "# 1a\n",
    "solve_equation([1,1,1,-1], [5, 1])"
   ]
  },
  {
   "cell_type": "code",
   "execution_count": 12,
   "metadata": {},
   "outputs": [
    {
     "data": {
      "text/plain": [
       "array([ 1.,  1., -1., -1.])"
      ]
     },
     "execution_count": 12,
     "metadata": {},
     "output_type": "execute_result"
    }
   ],
   "source": [
    "# 4a\n",
    "solve_equation([2, 2, -1, 1, 4, 3, -1, 2, 8, 5, -3,  4, 3, 3, -2, 2], [4, 6, 12, 6])"
   ]
  },
  {
   "cell_type": "code",
   "execution_count": 4,
   "metadata": {},
   "outputs": [
    {
     "data": {
      "text/plain": [
       "array([5., 8., 3.])"
      ]
     },
     "execution_count": 4,
     "metadata": {},
     "output_type": "execute_result"
    }
   ],
   "source": [
    "# 3b\n",
    "solve_equation([1, 1, 0, 0, 1, -1, 1, 0, -1], [13, 5, 2])"
   ]
  },
  {
   "cell_type": "code",
   "execution_count": 6,
   "metadata": {},
   "outputs": [
    {
     "name": "stdout",
     "output_type": "stream",
     "text": [
      "請輸入方程式：x+y=13\n",
      "請輸入方程式：y-z=5\n",
      "請輸入方程式：x-z=2\n",
      "請輸入方程式：\n",
      "{x: 5, y: 8, z: 3}\n"
     ]
    }
   ],
   "source": [
    "from sympy.solvers import solve\n",
    "\n",
    "equations=[]\n",
    "while True:\n",
    "    x = input('請輸入方程式：')\n",
    "    if x == '':\n",
    "        break\n",
    "    equations.append(x)\n",
    "    \n",
    "if len(equations)>0:\n",
    "    for i in range(len(equations)):\n",
    "        arr = equations[i].split('=')\n",
    "        if len(arr) == 2:\n",
    "            equations[i] = arr[0] + '-(' + arr[1] + ')'\n",
    "    print(solve(equations))"
   ]
  },
  {
   "cell_type": "code",
   "execution_count": 1,
   "metadata": {},
   "outputs": [],
   "source": [
    "import tkinter as tk\n",
    "root = tk.Tk()\n",
    "root.geometry(\"400x240\")\n",
    "\n",
    "def getTextInput():\n",
    "    result=textExample.get(\"1.0\",\"end\")\n",
    "    print(result)\n",
    "\n",
    "textExample=tk.Text(root, height=10)\n",
    "textExample.pack()\n",
    "btnRead=tk.Button(root, height=1, width=10, text=\"Read\", \n",
    "                    command=getTextInput)\n",
    "\n",
    "btnRead.pack()\n",
    "\n",
    "root.mainloop()"
   ]
  },
  {
   "cell_type": "code",
   "execution_count": 1,
   "metadata": {},
   "outputs": [
    {
     "name": "stdout",
     "output_type": "stream",
     "text": [
      "['x+y-(5)', 'x-y-(1)']\n"
     ]
    }
   ],
   "source": [
    "from sympy.solvers import solve\n",
    "from tkinter import *\n",
    "\n",
    "# 啟動視窗系統\n",
    "root = Tk()\n",
    "\n",
    "def run():\n",
    "    equations_clean=[]\n",
    "    expr1 = text1.get(\"1.0\",\"end\")\n",
    "    equations = expr1.split('\\n')\n",
    "    if len(equations)>0:\n",
    "        for i in range(len(equations)):\n",
    "            if equations[i] == '':\n",
    "                continue\n",
    "#             print(equations[i])\n",
    "            arr = equations[i].split('=')\n",
    "            if len(arr) == 2:\n",
    "                equations[i] = arr[0] + '-(' + arr[1] + ')'\n",
    "            equations_clean.append(equations[i])\n",
    "        print(equations_clean)\n",
    "        answer1.set(solve(equations_clean))        \n",
    "\n",
    "# 畫面設計\n",
    "answer1 = StringVar() \n",
    "Label(root, text=\"請輸入方程式：(2x 需輸入 2*x)\", height=1, font='Helvetic 18 bold').pack(fill=X)\n",
    "text1 = Text(root, height=5, width=30, font='Helvetic 18 bold')\n",
    "text1.pack()\n",
    "Button(root, text=\"求解\", font='Helvetic 36 bold', command=run).pack(fill=X)\n",
    "Label(root, text=\"\", height=1, font='Helvetic 18 bold', textvariable=answer1).pack(fill=X)\n",
    "\n",
    "\n",
    "# 監聽事件\n",
    "root.mainloop()\n"
   ]
  },
  {
   "cell_type": "code",
   "execution_count": null,
   "metadata": {},
   "outputs": [],
   "source": []
  }
 ],
 "metadata": {
  "kernelspec": {
   "display_name": "Python 3 (ipykernel)",
   "language": "python",
   "name": "python3"
  },
  "language_info": {
   "codemirror_mode": {
    "name": "ipython",
    "version": 3
   },
   "file_extension": ".py",
   "mimetype": "text/x-python",
   "name": "python",
   "nbconvert_exporter": "python",
   "pygments_lexer": "ipython3",
   "version": "3.9.13"
  }
 },
 "nbformat": 4,
 "nbformat_minor": 2
}
